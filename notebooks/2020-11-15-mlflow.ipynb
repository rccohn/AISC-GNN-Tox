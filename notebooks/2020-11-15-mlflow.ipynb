{
 "cells": [
  {
   "cell_type": "code",
   "execution_count": 1,
   "metadata": {},
   "outputs": [],
   "source": [
    "import pandas as pd\n",
    "import numpy as np\n",
    "\n",
    "import mlflow\n",
    "import sys\n",
    "sys.path.insert(0, '..')\n",
    "from pathlib import Path\n"
   ]
  },
  {
   "cell_type": "code",
   "execution_count": 2,
   "metadata": {},
   "outputs": [],
   "source": [
    "# artifacts such as saved model weights, pickle files, etc\n",
    "model_path = str(Path('..','models','2020-11-15-RF-model.pickle').absolute().resolve())\n",
    "metadata_path = str(Path('..','metadata.txt'))\n",
    "artifacts = {'pickle_model': model_path,\n",
    "            'metadata': metadata_path}\n"
   ]
  },
  {
   "cell_type": "code",
   "execution_count": 3,
   "metadata": {},
   "outputs": [],
   "source": [
    "# Serve as an MLflow wrapper for model\n",
    "class ModelWrapper(mlflow.pyfunc.PythonModel):\n",
    "    \n",
    "    # Load in model and all required artifacts\n",
    "    # context object is provided by mlflow\n",
    "    # it contains all artifacts\n",
    "    def load_context(self, context):\n",
    "        import sklearn\n",
    "        import pickle\n",
    "        from src import model\n",
    "        \n",
    "        # load model\n",
    "        with open(context.artifacts['pickle_model'], 'rb') as f:\n",
    "            test_model = pickle.load(f)\n",
    "        \n",
    "        self.model = test_model\n",
    "    \n",
    "    # function which takes in pandas df and returns predicted labels \n",
    "    def predict(self, context, model_input):\n",
    "        from src import model\n",
    "        model_input = model_input.to_numpy()\n",
    "        return model.predict(model_input, self.model)"
   ]
  },
  {
   "cell_type": "code",
   "execution_count": 4,
   "metadata": {},
   "outputs": [],
   "source": [
    "# mlflow complains if directory already exists, so remove it before saving model to mlflow directory\n",
    "!rm -rf ../mlflow/model\n",
    "src_path = Path('../src')\n",
    "mlflowpath= Path('..','mlflow','model')\n",
    "\n",
    "mlflow.pyfunc.save_model(path=str(mlflowpath), python_model=ModelWrapper(), \n",
    "                         artifacts=artifacts, conda_env='../envtest.yml', \n",
    "                         code_path=['../src/'])"
   ]
  },
  {
   "cell_type": "code",
   "execution_count": 5,
   "metadata": {},
   "outputs": [],
   "source": [
    "# load model from mlflow directory\n",
    "loaded_model = mlflow.pyfunc.load_model(str(mlflowpath))"
   ]
  },
  {
   "cell_type": "code",
   "execution_count": 6,
   "metadata": {},
   "outputs": [],
   "source": [
    "# test model on saved data\n",
    "import pickle\n",
    "with open('../test_data.pickle', 'rb') as f:\n",
    "    test_data = pickle.load(f)\n",
    "\n",
    "df = pd.DataFrame(data=test_data['valid']['X'][:3])"
   ]
  },
  {
   "cell_type": "code",
   "execution_count": 7,
   "metadata": {},
   "outputs": [
    {
     "data": {
      "text/plain": [
       "[['estrogen receptor alpha, LBD (ER, LBD): inactive',\n",
       "  'estrogen receptor alpha, full (ER, full): inactive',\n",
       "  'aromatase: inactive',\n",
       "  'aryl hydrocarbon receptor (AhR): inactive',\n",
       "  'androgen receptor, full (AR, full): inactive',\n",
       "  'androgen receptor, LBD (AR, LBD): inactive',\n",
       "  'peroxisome proliferator-activated receptor gamma (PPAR-gamma): inactive',\n",
       "  'nuclear factor (erythroid-derived 2)-like 2/antioxidant responsive element (Nrf2/ARE): inactive',\n",
       "  'heat shock factor response element (HSE): inactive',\n",
       "  'ATAD5: inactive',\n",
       "  'mitochondrial membrane potential (MMP): inactive',\n",
       "  'p53: inactive'],\n",
       " ['estrogen receptor alpha, LBD (ER, LBD): inactive',\n",
       "  'estrogen receptor alpha, full (ER, full): inactive',\n",
       "  'aromatase: inactive',\n",
       "  'aryl hydrocarbon receptor (AhR): inactive',\n",
       "  'androgen receptor, full (AR, full): inactive',\n",
       "  'androgen receptor, LBD (AR, LBD): inactive',\n",
       "  'peroxisome proliferator-activated receptor gamma (PPAR-gamma): inactive',\n",
       "  'nuclear factor (erythroid-derived 2)-like 2/antioxidant responsive element (Nrf2/ARE): inactive',\n",
       "  'heat shock factor response element (HSE): inactive',\n",
       "  'ATAD5: inactive',\n",
       "  'mitochondrial membrane potential (MMP): inactive',\n",
       "  'p53: inactive'],\n",
       " ['estrogen receptor alpha, LBD (ER, LBD): inactive',\n",
       "  'estrogen receptor alpha, full (ER, full): inactive',\n",
       "  'aromatase: inactive',\n",
       "  'aryl hydrocarbon receptor (AhR): inactive',\n",
       "  'androgen receptor, full (AR, full): inactive',\n",
       "  'androgen receptor, LBD (AR, LBD): inactive',\n",
       "  'peroxisome proliferator-activated receptor gamma (PPAR-gamma): inactive',\n",
       "  'nuclear factor (erythroid-derived 2)-like 2/antioxidant responsive element (Nrf2/ARE): inactive',\n",
       "  'heat shock factor response element (HSE): inactive',\n",
       "  'ATAD5: inactive',\n",
       "  'mitochondrial membrane potential (MMP): inactive',\n",
       "  'p53: inactive']]"
      ]
     },
     "execution_count": 7,
     "metadata": {},
     "output_type": "execute_result"
    }
   ],
   "source": [
    "loaded_model.predict(df)"
   ]
  }
 ],
 "metadata": {
  "kernelspec": {
   "display_name": "Python 3",
   "language": "python",
   "name": "python3"
  },
  "language_info": {
   "codemirror_mode": {
    "name": "ipython",
    "version": 3
   },
   "file_extension": ".py",
   "mimetype": "text/x-python",
   "name": "python",
   "nbconvert_exporter": "python",
   "pygments_lexer": "ipython3",
   "version": "3.6.12"
  }
 },
 "nbformat": 4,
 "nbformat_minor": 4
}
