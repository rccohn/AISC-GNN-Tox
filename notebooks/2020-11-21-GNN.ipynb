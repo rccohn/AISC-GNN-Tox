{
 "cells": [
  {
   "cell_type": "code",
   "execution_count": 1,
   "metadata": {},
   "outputs": [],
   "source": [
    "import deepchem as dc\n",
    "from deepchem.models import GATModel"
   ]
  },
  {
   "cell_type": "code",
   "execution_count": 46,
   "metadata": {},
   "outputs": [
    {
     "name": "stderr",
     "output_type": "stream",
     "text": [
      "Failed to featurize datapoint 95, [I-].[K+]. Appending empty array\n",
      "Exception message: zero-size array to reduction operation maximum which has no identity\n",
      "Failed to featurize datapoint 255, [Hg+2]. Appending empty array\n",
      "Exception message: zero-size array to reduction operation maximum which has no identity\n",
      "Failed to featurize datapoint 659, [Ba+2]. Appending empty array\n",
      "Exception message: zero-size array to reduction operation maximum which has no identity\n",
      "Failed to featurize datapoint 985, [TlH2+]. Appending empty array\n",
      "Exception message: zero-size array to reduction operation maximum which has no identity\n",
      "Failed to featurize datapoint 1423, [Cr+3]. Appending empty array\n",
      "Exception message: zero-size array to reduction operation maximum which has no identity\n",
      "Failed to featurize datapoint 1534, [Fe+2]. Appending empty array\n",
      "Exception message: zero-size array to reduction operation maximum which has no identity\n",
      "Failed to featurize datapoint 1722, [Co+2]. Appending empty array\n",
      "Exception message: zero-size array to reduction operation maximum which has no identity\n",
      "Failed to featurize datapoint 1933, [PbH2+2]. Appending empty array\n",
      "Exception message: zero-size array to reduction operation maximum which has no identity\n",
      "Failed to featurize datapoint 2147, [Fe+3]. Appending empty array\n",
      "Exception message: zero-size array to reduction operation maximum which has no identity\n",
      "Failed to featurize datapoint 2251, [Cu+2]. Appending empty array\n",
      "Exception message: zero-size array to reduction operation maximum which has no identity\n",
      "Failed to featurize datapoint 2760, [Cd+2]. Appending empty array\n",
      "Exception message: zero-size array to reduction operation maximum which has no identity\n",
      "Failed to featurize datapoint 2832, [SnH2+2]. Appending empty array\n",
      "Exception message: zero-size array to reduction operation maximum which has no identity\n",
      "Failed to featurize datapoint 4024, [Mn+2]. Appending empty array\n",
      "Exception message: zero-size array to reduction operation maximum which has no identity\n",
      "Failed to featurize datapoint 4375, [Be+2]. Appending empty array\n",
      "Exception message: zero-size array to reduction operation maximum which has no identity\n",
      "Failed to featurize datapoint 4611, [Zn+2]. Appending empty array\n",
      "Exception message: zero-size array to reduction operation maximum which has no identity\n",
      "Failed to featurize datapoint 5942, [Br-].[Na+]. Appending empty array\n",
      "Exception message: zero-size array to reduction operation maximum which has no identity\n",
      "Failed to featurize datapoint 6477, [Ca+2].[Cl-].[Cl-]. Appending empty array\n",
      "Exception message: zero-size array to reduction operation maximum which has no identity\n",
      "Failed to featurize datapoint 6547, [SbH6+3]. Appending empty array\n",
      "Exception message: zero-size array to reduction operation maximum which has no identity\n",
      "Failed to featurize datapoint 6717, [Ni+2]. Appending empty array\n",
      "Exception message: zero-size array to reduction operation maximum which has no identity\n"
     ]
    }
   ],
   "source": [
    "featurizer = dc.feat.MolGraphConvFeaturizer()\n",
    "tasks, datasets, transformers = dc.molnet.load_tox21(\n",
    "     reload=False, featurizer=featurizer, transformers=[])\n",
    "train, valid, test = datasets\n",
    "model = dc.models.GATModel(mode='classification', n_tasks=len(tasks),\n",
    "                            batch_size=32, learning_rate=0.001)"
   ]
  },
  {
   "cell_type": "code",
   "execution_count": 47,
   "metadata": {},
   "outputs": [
    {
     "data": {
      "text/plain": [
       "0.09478408813476563"
      ]
     },
     "execution_count": 47,
     "metadata": {},
     "output_type": "execute_result"
    }
   ],
   "source": [
    "model.fit(train, nb_epoch=200)"
   ]
  },
  {
   "cell_type": "code",
   "execution_count": 27,
   "metadata": {},
   "outputs": [],
   "source": [
    "import pickle"
   ]
  },
  {
   "cell_type": "code",
   "execution_count": 48,
   "metadata": {},
   "outputs": [],
   "source": [
    "with open('state_dict_100epochs.pickle', 'wb') as f:\n",
    "    pickle.dump(model.model.state_dict, f)"
   ]
  },
  {
   "cell_type": "code",
   "execution_count": 52,
   "metadata": {},
   "outputs": [],
   "source": [
    "with open('state_dict.pickle', 'rb') as f:\n",
    "    sd = pickle.load(f)"
   ]
  },
  {
   "cell_type": "code",
   "execution_count": 57,
   "metadata": {},
   "outputs": [
    {
     "data": {
      "text/plain": [
       "<All keys matched successfully>"
      ]
     },
     "execution_count": 57,
     "metadata": {},
     "output_type": "execute_result"
    }
   ],
   "source": [
    "model.model.load_state_dict(sd())"
   ]
  },
  {
   "cell_type": "code",
   "execution_count": null,
   "metadata": {},
   "outputs": [],
   "source": []
  },
  {
   "cell_type": "code",
   "execution_count": 58,
   "metadata": {},
   "outputs": [],
   "source": [
    "yp = model.predict(valid)"
   ]
  },
  {
   "cell_type": "code",
   "execution_count": 32,
   "metadata": {},
   "outputs": [],
   "source": [
    "from sklearn.metrics import accuracy_score"
   ]
  },
  {
   "cell_type": "code",
   "execution_count": 42,
   "metadata": {},
   "outputs": [
    {
     "data": {
      "text/plain": [
       "array([[0., 0., 0., ..., 0., 1., 0.],\n",
       "       [0., 0., 0., ..., 0., 0., 0.],\n",
       "       [0., 0., 1., ..., 0., 0., 0.],\n",
       "       ...,\n",
       "       [0., 0., 0., ..., 0., 0., 0.],\n",
       "       [0., 0., 0., ..., 0., 0., 0.],\n",
       "       [0., 0., 0., ..., 0., 0., 0.]])"
      ]
     },
     "execution_count": 42,
     "metadata": {},
     "output_type": "execute_result"
    }
   ],
   "source": [
    "valid.y"
   ]
  },
  {
   "cell_type": "code",
   "execution_count": 43,
   "metadata": {},
   "outputs": [
    {
     "data": {
      "text/plain": [
       "array([[0, 0, 0, ..., 0, 0, 0],\n",
       "       [0, 0, 0, ..., 0, 0, 0],\n",
       "       [0, 0, 0, ..., 0, 0, 0],\n",
       "       ...,\n",
       "       [0, 0, 0, ..., 0, 0, 0],\n",
       "       [0, 0, 0, ..., 0, 0, 0],\n",
       "       [0, 0, 0, ..., 0, 0, 0]])"
      ]
     },
     "execution_count": 43,
     "metadata": {},
     "output_type": "execute_result"
    }
   ],
   "source": []
  },
  {
   "cell_type": "code",
   "execution_count": 59,
   "metadata": {},
   "outputs": [
    {
     "data": {
      "text/plain": [
       "0.5454545454545454"
      ]
     },
     "execution_count": 59,
     "metadata": {},
     "output_type": "execute_result"
    }
   ],
   "source": [
    "accuracy_score(valid.y, np.argmax(yp, axis=2))"
   ]
  }
 ],
 "metadata": {
  "kernelspec": {
   "display_name": "Python 3",
   "language": "python",
   "name": "python3"
  },
  "language_info": {
   "codemirror_mode": {
    "name": "ipython",
    "version": 3
   },
   "file_extension": ".py",
   "mimetype": "text/x-python",
   "name": "python",
   "nbconvert_exporter": "python",
   "pygments_lexer": "ipython3",
   "version": "3.6.12"
  }
 },
 "nbformat": 4,
 "nbformat_minor": 4
}
