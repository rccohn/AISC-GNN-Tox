{
 "cells": [
  {
   "cell_type": "markdown",
   "metadata": {},
   "source": [
    "# GNNTox Team\n",
    "![team](images/gnntox.png)"
   ]
  },
  {
   "cell_type": "markdown",
   "metadata": {},
   "source": [
    "# Mission Statement: \n",
    "## We aim to reduce the cost and lead time of drug development to ensure faster delivery and lower costs of drugs for patients. \n"
   ]
  },
  {
   "cell_type": "markdown",
   "metadata": {},
   "source": [
    "# Problem:\n",
    "![costs](images/drug_costs.svg)\n",
    "\n",
    "Ned Pagliarulo / BioPharma Dive, data from \"Estimated Research and Development Investment Needed to Bring a New Medicine to Market, 2009-2018,\" JAMA \n",
    "\n",
    " - Time to market for new pharmeceuticals is typically around 10 years (https://www.pharmtech.com/view/speeding-time-market-better-pharmaceutical-project-management)\n",
    "\n",
    " - \"In fact, more than 30 percent of promising pharmaceuticals have failed in human clinical trials because they are determined to be toxic despite promising pre-clinical studies in animal models (Nat Rev Drug Discov. 2004;3(8):711–715).\" (https://tripod.nih.gov/tox21/challenge/about.jsp)"
   ]
  },
  {
   "cell_type": "markdown",
   "metadata": {},
   "source": [
    "# Dataset: Tox21 Challenge \n",
    "![name](images/tox21.png)\n",
    "\n",
    "- https://tripod.nih.gov/tox21/challenge/about.jsphttps://tripod.nih.gov/tox21/challenge/about.jsp\n",
    "- Created by NIH National Center for Advancing Translational Sciences in 2014.\n",
    "- Goal: Predict whether candidate molecules are active in  12 biological pathways of interest\n",
    "- Data: ~10,000 different labeled compounds to test"
   ]
  },
  {
   "cell_type": "markdown",
   "metadata": {},
   "source": [
    "# Starting Point: DeepChem\n",
    "<img src=\"images/deepchem_logo.png\" style=\"width: 400px;\"/>\n",
    "\n",
    "- https://deepchem.io/\n",
    "- Open source\n",
    "- Provides convenient interface for Tox21 dataset\n",
    "- Feature extractor for converting chemical formulas to graphs (nodes are atoms, edges are chemical bonds)\n",
    "- Provides starting point for several different types of models, including GNN's"
   ]
  },
  {
   "cell_type": "markdown",
   "metadata": {},
   "source": [
    "# Product: GNNTox\n",
    "- GNN Model: validation roc_auc score: 0.72\n",
    "\n",
    "## Client side: \n",
    "- Convenient python API\n",
    "- Apply DeepChem featurizer to SMILES-encoded representations of various chemical compounds\n",
    "- Convert graph representation to json-compatible string which can be sent via http\n",
    "- Send input to server to run model inference\n",
    "- Display results or save to csv\n"
   ]
  },
  {
   "cell_type": "markdown",
   "metadata": {},
   "source": [
    "## Server side:\n",
    "- Currently running locally, but will be uploaded to AWS EC2 instance\n",
    "- Dockerized Flask app- scalable, reproducible\n",
    "  * convert request from JSON object to graph\n",
    "  * run model inference\n",
    "  * send results over http"
   ]
  },
  {
   "cell_type": "markdown",
   "metadata": {},
   "source": [
    "## Pre-demo: module imports"
   ]
  },
  {
   "cell_type": "code",
   "execution_count": 13,
   "metadata": {},
   "outputs": [],
   "source": [
    "import pickle\n",
    "import deepchem as dc\n",
    "import sys\n",
    "sys.path.insert(0,'../')\n",
    "import src\n",
    "import requests\n",
    "import json\n",
    "import pandas as pd\n",
    "import numpy as np\n",
    "\n",
    "from src.dc_utils import data_to_json, format_request, response_to_csv"
   ]
  },
  {
   "cell_type": "markdown",
   "metadata": {},
   "source": [
    "# Demo 1: get metadata\n",
    "\n",
    "Retrieve product information. Right now, just indicates release version."
   ]
  },
  {
   "cell_type": "code",
   "execution_count": 14,
   "metadata": {},
   "outputs": [
    {
     "name": "stdout",
     "output_type": "stream",
     "text": [
      "metadata:\n",
      "{\"Release\":\"beta\"}\n",
      "\n"
     ]
    }
   ],
   "source": [
    "host1 = 'http://localhost:5000/'\n",
    "\n",
    "response = requests.get(host1)\n",
    "print('metadata:\\n{}'.format(response.text))\n"
   ]
  },
  {
   "cell_type": "markdown",
   "metadata": {},
   "source": [
    "# Demo 2: Predict on data from DeepChem\n",
    "- Data loaded from deepchem directly\n",
    "- Encode dataset to JSON \n",
    "- send to server \n",
    "- get predictions\n",
    "- Display results in plain text"
   ]
  },
  {
   "cell_type": "code",
   "execution_count": 15,
   "metadata": {},
   "outputs": [],
   "source": [
    "tox21_tasks_2, tox21_datasets_2, transformers_2 = dc.molnet.load_tox21(featurizer='GraphConv')\n",
    "train_dataset_2, valid_dataset_2, test_dataset_2 = tox21_datasets_2"
   ]
  },
  {
   "cell_type": "code",
   "execution_count": 16,
   "metadata": {},
   "outputs": [
    {
     "name": "stdout",
     "output_type": "stream",
     "text": [
      "Number of samples: (784,)\n"
     ]
    }
   ],
   "source": [
    "print('Number of samples: {}'.format(test_dataset_2.X.shape))"
   ]
  },
  {
   "cell_type": "code",
   "execution_count": 35,
   "metadata": {},
   "outputs": [
    {
     "name": "stdout",
     "output_type": "stream",
     "text": [
      "0: CC1(C)S[C@@H]2[C@H](NC(=O)Cc3ccccc3)C(=O)N2[C@H]1C(=O)O.CC1(C)S[C@@H]2[C@H](NC(=O)Cc3ccccc3)C(=O)N2[C@H]1C(=O)O.c1ccc(CNCCNCc2ccccc2)cc1\n",
      "['estrogen receptor alpha, LBD (ER, LBD): inactive', 'estrogen receptor alpha, full (ER, full): inactive', 'aromatase: inactive', 'aryl hydrocarbon receptor (AhR): inactive', 'androgen receptor, full (AR, full): inactive', 'androgen receptor, LBD (AR, LBD): inactive', 'peroxisome proliferator-activated receptor gamma (PPAR-gamma): inactive', 'nuclear factor (erythroid-derived 2)-like 2/antioxidant responsive element (Nrf2/ARE): inactive', 'heat shock factor response element (HSE): inactive', 'ATAD5: inactive', 'mitochondrial membrane potential (MMP): inactive', 'p53: inactive']\n",
      "\n",
      "\n",
      "\n",
      "1: CC(C)(c1ccc(Oc2ccc3c(c2)C(=O)OC3=O)cc1)c1ccc(Oc2ccc3c(c2)C(=O)OC3=O)cc1\n",
      "['estrogen receptor alpha, LBD (ER, LBD): active', 'estrogen receptor alpha, full (ER, full): inactive', 'aromatase: active', 'aryl hydrocarbon receptor (AhR): active', 'androgen receptor, full (AR, full): active', 'androgen receptor, LBD (AR, LBD): active', 'peroxisome proliferator-activated receptor gamma (PPAR-gamma): active', 'nuclear factor (erythroid-derived 2)-like 2/antioxidant responsive element (Nrf2/ARE): active', 'heat shock factor response element (HSE): active', 'ATAD5: active', 'mitochondrial membrane potential (MMP): active', 'p53: active']\n",
      "\n",
      "\n",
      "\n",
      "2: Cc1cc(C(C)(C)C)c(O)c(C)c1Cn1c(=O)n(Cc2c(C)cc(C(C)(C)C)c(O)c2C)c(=O)n(Cc2c(C)cc(C(C)(C)C)c(O)c2C)c1=O\n",
      "['estrogen receptor alpha, LBD (ER, LBD): inactive', 'estrogen receptor alpha, full (ER, full): inactive', 'aromatase: inactive', 'aryl hydrocarbon receptor (AhR): active', 'androgen receptor, full (AR, full): active', 'androgen receptor, LBD (AR, LBD): active', 'peroxisome proliferator-activated receptor gamma (PPAR-gamma): active', 'nuclear factor (erythroid-derived 2)-like 2/antioxidant responsive element (Nrf2/ARE): active', 'heat shock factor response element (HSE): active', 'ATAD5: active', 'mitochondrial membrane potential (MMP): active', 'p53: active']\n",
      "\n",
      "\n",
      "\n"
     ]
    }
   ],
   "source": [
    "test_data = data_to_json(test_dataset_2)\n",
    "data_json = format_request(test_data)\n",
    "\n",
    "host2 = f'{host1}/predict'\n",
    "response = requests.post(host2, data=data_json)\n",
    "response_list = json.loads(response.text)\n",
    "for i in range(3):\n",
    "    print('{}: {}'.format(i, test_dataset_2.ids[i]))\n",
    "    print(response_list[i])\n",
    "    print('\\n\\n')"
   ]
  },
  {
   "cell_type": "markdown",
   "metadata": {},
   "source": [
    "# Demo 3: Predict on molecule from SMILES representation"
   ]
  },
  {
   "cell_type": "code",
   "execution_count": 36,
   "metadata": {},
   "outputs": [],
   "source": [
    "molecules = ['CC(C)(c1ccc(Oc2ccc3c(c2)C(=O)OC3=O)cc1)c1ccc(Oc2ccc3c(c2)C(=O)OC3=O)cc1',\n",
    "       'Cc1cc(C(C)(C)C)c(O)c(C)c1Cn1c(=O)n(Cc2c(C)cc(C(C)(C)C)c(O)c2C)c(=O)n(Cc2c(C)cc(C(C)(C)C)c(O)c2C)c1=O',\n",
    "       'Cc1nnc(-c2ccccc2)c(=O)n1N', 'N=C(N)NCC1COc2ccccc2O1',\n",
    "       'Cc1cccc(C)c1NC(=O)NC1=CCCN1C', 'c1csc(C2(N3CCCCC3)CCCCC2)c1',]\n",
    "\n",
    "featurizer = dc.feat.ConvMolFeaturizer()\n",
    "conv_mols = featurizer(molecules)\n",
    "dataset = dc.data.NumpyDataset(conv_mols, ids=molecules, n_tasks=12)\n",
    "dataset.tasks = tox21_tasks_2\n",
    "\n",
    "dataset_json = format_request(data_to_json(dataset))\n",
    "response_2 = requests.post(host2, data=dataset_json)"
   ]
  },
  {
   "cell_type": "code",
   "execution_count": 37,
   "metadata": {},
   "outputs": [],
   "source": [
    "response_to_csv(response_2, molecules, 'results.csv')"
   ]
  },
  {
   "cell_type": "markdown",
   "metadata": {},
   "source": [
    "# Future Plans\n",
    "- Try to improve model performance (better architecture, more data, better features, etc)\n",
    "- Front-end app development (GUI/more features)\n",
    "- Expand classifier to include more pathways, or generate higher level information (ie biocompatible vs not)\n",
    "- Expand classifier to work with more complex molecules ie MABs"
   ]
  }
 ],
 "metadata": {
  "kernelspec": {
   "display_name": "Python 3",
   "language": "python",
   "name": "python3"
  },
  "language_info": {
   "codemirror_mode": {
    "name": "ipython",
    "version": 3
   },
   "file_extension": ".py",
   "mimetype": "text/x-python",
   "name": "python",
   "nbconvert_exporter": "python",
   "pygments_lexer": "ipython3",
   "version": "3.6.9"
  }
 },
 "nbformat": 4,
 "nbformat_minor": 4
}
