{
 "cells": [
  {
   "cell_type": "code",
   "execution_count": 1,
   "metadata": {},
   "outputs": [],
   "source": [
    "import pickle\n",
    "import deepchem as dc\n",
    "import sys\n",
    "sys.path.insert(0,'../')\n",
    "import src\n",
    "import requests\n",
    "import json\n",
    "import pandas as pd\n",
    "import numpy as np\n",
    "\n",
    "from src.dc_utils import data_to_json, format_request, response_to_csv"
   ]
  },
  {
   "cell_type": "markdown",
   "metadata": {},
   "source": [
    "# Demo 1: get metadata"
   ]
  },
  {
   "cell_type": "code",
   "execution_count": 2,
   "metadata": {},
   "outputs": [
    {
     "name": "stdout",
     "output_type": "stream",
     "text": [
      "metadata:\n",
      "{\"Release\":\"beta\"}\n",
      "\n"
     ]
    }
   ],
   "source": [
    "host1 = 'http://localhost:5000/'\n",
    "\n",
    "response = requests.get(host1)\n",
    "print('metadata:\\n{}'.format(response.text))\n"
   ]
  },
  {
   "cell_type": "markdown",
   "metadata": {},
   "source": [
    "# Demo 2: Predict on data from DeepChem"
   ]
  },
  {
   "cell_type": "code",
   "execution_count": 3,
   "metadata": {},
   "outputs": [],
   "source": [
    "tox21_tasks_2, tox21_datasets_2, transformers_2 = dc.molnet.load_tox21(featurizer='GraphConv')\n",
    "train_dataset_2, valid_dataset_2, test_dataset_2 = tox21_datasets_2"
   ]
  },
  {
   "cell_type": "code",
   "execution_count": 4,
   "metadata": {},
   "outputs": [
    {
     "name": "stdout",
     "output_type": "stream",
     "text": [
      "[[\"estrogen receptor alpha, LBD (ER, LBD): inactive\",\"estrogen receptor alpha, full (ER, full): inactive\",\"aromatase: inactive\",\"aryl hydrocarbon receptor (AhR): inactive\",\"androgen receptor, full (AR, full): inactive\",\"androgen receptor, LBD (AR, LBD): inactive\",\"peroxisome proliferator-activated receptor gamma (PPAR-gamma): inactive\",\"nuclear factor (erythroid-derived 2)-like 2/antioxidant responsive element (Nrf2/ARE): inactive\",\"heat shock factor response element (HSE): inactive\",\"ATAD5: inactive\",\"mitochondrial membrane potential (MMP): inactive\",\"p53: inactive\"],[\"estrogen receptor alpha, LBD (ER, LBD): active\",\"estrogen receptor alpha, full (ER, full): inactive\",\"aromatase: active\",\"aryl hydrocarbon receptor (AhR): active\",\"androgen receptor, full (AR, full): active\",\"androgen receptor, LBD (AR, LBD): active\",\"peroxisome proliferator-activated receptor gamma (PPAR-gamma): active\",\"nuclear factor (erythroid-derived 2)-like 2/antioxidant responsive element (Nrf2/ARE): active\",\"hea\n"
     ]
    }
   ],
   "source": [
    "test_data = data_to_json(test_dataset_2)\n",
    "data_json = format_request(test_data)\n",
    "\n",
    "host2 = f'{host1}/predict'\n",
    "response = requests.post(host2, data=data_json)\n",
    "print(response.text[:1000])"
   ]
  },
  {
   "cell_type": "markdown",
   "metadata": {},
   "source": [
    "# Demo 3: Predict on molecule from SMILES representation"
   ]
  },
  {
   "cell_type": "code",
   "execution_count": 5,
   "metadata": {},
   "outputs": [],
   "source": [
    "molecules = ['CC(C)(c1ccc(Oc2ccc3c(c2)C(=O)OC3=O)cc1)c1ccc(Oc2ccc3c(c2)C(=O)OC3=O)cc1',\n",
    "       'Cc1cc(C(C)(C)C)c(O)c(C)c1Cn1c(=O)n(Cc2c(C)cc(C(C)(C)C)c(O)c2C)c(=O)n(Cc2c(C)cc(C(C)(C)C)c(O)c2C)c1=O',\n",
    "       'Cc1nnc(-c2ccccc2)c(=O)n1N', 'N=C(N)NCC1COc2ccccc2O1',\n",
    "       'Cc1cccc(C)c1NC(=O)NC1=CCCN1C', 'c1csc(C2(N3CCCCC3)CCCCC2)c1',]\n",
    "\n",
    "featurizer = dc.feat.ConvMolFeaturizer()\n",
    "conv_mols = featurizer(molecules)\n",
    "dataset = dc.data.NumpyDataset(conv_mols, ids=molecules, n_tasks=12)\n",
    "dataset.tasks = tox21_tasks_2\n",
    "\n",
    "dataset_json = format_request(data_to_json(dataset))\n",
    "response_2 = requests.post(host2, data=dataset_json)"
   ]
  },
  {
   "cell_type": "code",
   "execution_count": 6,
   "metadata": {},
   "outputs": [],
   "source": [
    "response_to_csv(response_2, molecules, 'results.csv')"
   ]
  }
 ],
 "metadata": {
  "kernelspec": {
   "display_name": "Python 3",
   "language": "python",
   "name": "python3"
  },
  "language_info": {
   "codemirror_mode": {
    "name": "ipython",
    "version": 3
   },
   "file_extension": ".py",
   "mimetype": "text/x-python",
   "name": "python",
   "nbconvert_exporter": "python",
   "pygments_lexer": "ipython3",
   "version": "3.6.9"
  }
 },
 "nbformat": 4,
 "nbformat_minor": 4
}
