{
 "cells": [
  {
   "cell_type": "code",
   "execution_count": 1,
   "metadata": {},
   "outputs": [],
   "source": [
    "import pickle\n",
    "import pandas as pd\n",
    "import numpy as np\n",
    "import deepchem as dc\n",
    "\n",
    "import mlflow\n",
    "import sys\n",
    "sys.path.insert(0, '..')\n",
    "from pathlib import Path\n",
    "import src\n",
    "import json "
   ]
  },
  {
   "cell_type": "code",
   "execution_count": 2,
   "metadata": {},
   "outputs": [],
   "source": [
    "# artifacts such as saved model weights, pickle files, etc\n",
    "model_path = '../gnn_model/'\n",
    "metadata_path = str(Path('..','metadata.txt'))\n",
    "artifacts = {'model_files': model_path,\n",
    "            'metadata': metadata_path}\n"
   ]
  },
  {
   "cell_type": "code",
   "execution_count": 3,
   "metadata": {},
   "outputs": [],
   "source": [
    "# Serve as an MLflow wrapper for model\n",
    "class ModelWrapper(mlflow.pyfunc.PythonModel):\n",
    "    \n",
    "    # Load in model and all required artifacts\n",
    "    # context object is provided by mlflow\n",
    "    # it contains all artifacts\n",
    "    def load_context(self, context):\n",
    "        import deepchem as dc\n",
    "        import pickle\n",
    "        import src\n",
    "        \n",
    "        # load model\n",
    "        model = dc.models.GraphConvModel(12, model_dir=context.artifacts['model_files'], )\n",
    "        model.restore()\n",
    "        \n",
    "        self.model = model\n",
    "        \n",
    "        tox21_tasks_2, tox21_datasets_2, transformers_2 = dc.molnet.load_tox21(featurizer='GraphConv')\n",
    "        featurizer = dc.feat.ConvMolFeaturizer()\n",
    "        \n",
    "        self.featurizer = featurizer\n",
    "        self.tasks = tox21_tasks_2\n",
    "        \n",
    "    \n",
    "    # function which takes in pandas df and returns predicted labels \n",
    "    def predict(self, context, model_input):\n",
    "        from src import dc_utils\n",
    "        from src import labels as le\n",
    "        import deepchem as dc\n",
    "        \n",
    "        if 'molecules' in model_input.columns:\n",
    "            molecules = list(model_input['molecules'])\n",
    "            conv_mols = self.featurizer(molecules)\n",
    "            ds = dc.data.NumpyDataset(conv_mols, ids=molecules, n_tasks=12)\n",
    "            ds.tasks = self.tasks\n",
    "        \n",
    "        else:\n",
    "            ds = dc_utils.df_to_dataset(model_input)\n",
    "        \n",
    "        y_pred = self.model.predict(ds)\n",
    "        y_pred = le.inverse_transform(np.argmax(y_pred, axis=2))\n",
    "        return y_pred\n",
    "\n",
    "    "
   ]
  },
  {
   "cell_type": "code",
   "execution_count": 4,
   "metadata": {},
   "outputs": [],
   "source": [
    "# mlflow complains if directory already exists, so remove it before saving model to mlflow directory\n",
    "!rm -rf ./docker/api/mlflow_root_final/model\n",
    "src_path = Path('../src')\n",
    "mlflowpath= Path('docker','api','mlflow_root_final','model')\n",
    "\n",
    "mlflow.pyfunc.save_model(path=str(mlflowpath), python_model=ModelWrapper(), \n",
    "                         artifacts=artifacts, conda_env='docker/dc_env_docker.yml', \n",
    "                         code_path=['../src/'])"
   ]
  },
  {
   "cell_type": "code",
   "execution_count": 5,
   "metadata": {},
   "outputs": [],
   "source": [
    "# load model from mlflow directory\n",
    "loaded_model = mlflow.pyfunc.load_model(str(mlflowpath))"
   ]
  },
  {
   "cell_type": "code",
   "execution_count": 6,
   "metadata": {},
   "outputs": [
    {
     "name": "stdout",
     "output_type": "stream",
     "text": [
      "Number of samples: (784,)\n"
     ]
    }
   ],
   "source": [
    "tox21_tasks_2, tox21_datasets_2, transformers_2 = dc.molnet.load_tox21(featurizer='GraphConv')\n",
    "train_dataset_2, valid_dataset_2, test_dataset_2 = tox21_datasets_2\n",
    "print('Number of samples: {}'.format(test_dataset_2.X.shape))"
   ]
  },
  {
   "cell_type": "code",
   "execution_count": 7,
   "metadata": {},
   "outputs": [
    {
     "data": {
      "text/plain": [
       "784"
      ]
     },
     "execution_count": 7,
     "metadata": {},
     "output_type": "execute_result"
    }
   ],
   "source": [
    "from src.dc_utils import data_to_json, json_dict_to_dict, dict_to_dataframe, format_request\n",
    "test_data = data_to_json(test_dataset_2)\n",
    "req = format_request(test_data)\n",
    "dd = json_dict_to_dict(json.loads(req)['data']['df'])\n",
    "df = dict_to_dataframe(dd)\n",
    "pred = loaded_model.predict(df)\n",
    "len(pred)"
   ]
  },
  {
   "cell_type": "code",
   "execution_count": 8,
   "metadata": {},
   "outputs": [],
   "source": [
    "## the incoming JSON data will look like this\n",
    "dd = src.dc_utils.json_dict({'data': src.dc_utils.dataset_to_dict(test_dataset_2)})"
   ]
  },
  {
   "cell_type": "code",
   "execution_count": 9,
   "metadata": {},
   "outputs": [],
   "source": [
    "d = src.dc_utils.json_dict_to_dict(dd['data'])"
   ]
  },
  {
   "cell_type": "code",
   "execution_count": 10,
   "metadata": {},
   "outputs": [],
   "source": [
    "df = src.dc_utils.dict_to_dataframe(d['df'])"
   ]
  },
  {
   "cell_type": "code",
   "execution_count": 11,
   "metadata": {},
   "outputs": [],
   "source": [
    "p = loaded_model.predict(df)"
   ]
  },
  {
   "cell_type": "code",
   "execution_count": 12,
   "metadata": {},
   "outputs": [],
   "source": [
    "molecules = ['CC(C)(c1ccc(Oc2ccc3c(c2)C(=O)OC3=O)cc1)c1ccc(Oc2ccc3c(c2)C(=O)OC3=O)cc1',\n",
    "       'Cc1cc(C(C)(C)C)c(O)c(C)c1Cn1c(=O)n(Cc2c(C)cc(C(C)(C)C)c(O)c2C)c(=O)n(Cc2c(C)cc(C(C)(C)C)c(O)c2C)c1=O',\n",
    "       'Cc1nnc(-c2ccccc2)c(=O)n1N', 'N=C(N)NCC1COc2ccccc2O1',\n",
    "       'Cc1cccc(C)c1NC(=O)NC1=CCCN1C', 'c1csc(C2(N3CCCCC3)CCCCC2)c1',]\n",
    "\n",
    "tox21_tasks_2, tox21_datasets_2, transformers_2 = dc.molnet.load_tox21(featurizer='GraphConv')\n",
    "featurizer = dc.feat.ConvMolFeaturizer()\n",
    "conv_mols = featurizer(molecules)\n",
    "dataset = dc.data.NumpyDataset(conv_mols, ids=molecules, n_tasks=12)\n",
    "dataset.tasks = tox21_tasks_2"
   ]
  },
  {
   "cell_type": "code",
   "execution_count": 13,
   "metadata": {},
   "outputs": [],
   "source": [
    "x = pd.DataFrame({'molecules' : molecules})"
   ]
  },
  {
   "cell_type": "code",
   "execution_count": 14,
   "metadata": {},
   "outputs": [],
   "source": [
    "p2 = loaded_model.predict(x)"
   ]
  },
  {
   "cell_type": "code",
   "execution_count": 15,
   "metadata": {},
   "outputs": [
    {
     "data": {
      "text/plain": [
       "[['estrogen receptor alpha, LBD (ER, LBD): inactive',\n",
       "  'estrogen receptor alpha, full (ER, full): inactive',\n",
       "  'aromatase: inactive',\n",
       "  'aryl hydrocarbon receptor (AhR): inactive',\n",
       "  'androgen receptor, full (AR, full): inactive',\n",
       "  'androgen receptor, LBD (AR, LBD): inactive',\n",
       "  'peroxisome proliferator-activated receptor gamma (PPAR-gamma): inactive',\n",
       "  'nuclear factor (erythroid-derived 2)-like 2/antioxidant responsive element (Nrf2/ARE): inactive',\n",
       "  'heat shock factor response element (HSE): inactive',\n",
       "  'ATAD5: inactive',\n",
       "  'mitochondrial membrane potential (MMP): inactive',\n",
       "  'p53: inactive'],\n",
       " ['estrogen receptor alpha, LBD (ER, LBD): active',\n",
       "  'estrogen receptor alpha, full (ER, full): inactive',\n",
       "  'aromatase: active',\n",
       "  'aryl hydrocarbon receptor (AhR): active',\n",
       "  'androgen receptor, full (AR, full): active',\n",
       "  'androgen receptor, LBD (AR, LBD): active',\n",
       "  'peroxisome proliferator-activated receptor gamma (PPAR-gamma): active',\n",
       "  'nuclear factor (erythroid-derived 2)-like 2/antioxidant responsive element (Nrf2/ARE): active',\n",
       "  'heat shock factor response element (HSE): active',\n",
       "  'ATAD5: active',\n",
       "  'mitochondrial membrane potential (MMP): active',\n",
       "  'p53: active'],\n",
       " ['estrogen receptor alpha, LBD (ER, LBD): inactive',\n",
       "  'estrogen receptor alpha, full (ER, full): inactive',\n",
       "  'aromatase: inactive',\n",
       "  'aryl hydrocarbon receptor (AhR): active',\n",
       "  'androgen receptor, full (AR, full): active',\n",
       "  'androgen receptor, LBD (AR, LBD): active',\n",
       "  'peroxisome proliferator-activated receptor gamma (PPAR-gamma): active',\n",
       "  'nuclear factor (erythroid-derived 2)-like 2/antioxidant responsive element (Nrf2/ARE): active',\n",
       "  'heat shock factor response element (HSE): active',\n",
       "  'ATAD5: active',\n",
       "  'mitochondrial membrane potential (MMP): active',\n",
       "  'p53: active'],\n",
       " ['estrogen receptor alpha, LBD (ER, LBD): inactive',\n",
       "  'estrogen receptor alpha, full (ER, full): inactive',\n",
       "  'aromatase: active',\n",
       "  'aryl hydrocarbon receptor (AhR): inactive',\n",
       "  'androgen receptor, full (AR, full): active',\n",
       "  'androgen receptor, LBD (AR, LBD): inactive',\n",
       "  'peroxisome proliferator-activated receptor gamma (PPAR-gamma): inactive',\n",
       "  'nuclear factor (erythroid-derived 2)-like 2/antioxidant responsive element (Nrf2/ARE): inactive',\n",
       "  'heat shock factor response element (HSE): active',\n",
       "  'ATAD5: inactive',\n",
       "  'mitochondrial membrane potential (MMP): active',\n",
       "  'p53: active'],\n",
       " ['estrogen receptor alpha, LBD (ER, LBD): inactive',\n",
       "  'estrogen receptor alpha, full (ER, full): inactive',\n",
       "  'aromatase: active',\n",
       "  'aryl hydrocarbon receptor (AhR): inactive',\n",
       "  'androgen receptor, full (AR, full): inactive',\n",
       "  'androgen receptor, LBD (AR, LBD): inactive',\n",
       "  'peroxisome proliferator-activated receptor gamma (PPAR-gamma): inactive',\n",
       "  'nuclear factor (erythroid-derived 2)-like 2/antioxidant responsive element (Nrf2/ARE): inactive',\n",
       "  'heat shock factor response element (HSE): inactive',\n",
       "  'ATAD5: inactive',\n",
       "  'mitochondrial membrane potential (MMP): inactive',\n",
       "  'p53: inactive'],\n",
       " ['estrogen receptor alpha, LBD (ER, LBD): inactive',\n",
       "  'estrogen receptor alpha, full (ER, full): inactive',\n",
       "  'aromatase: active',\n",
       "  'aryl hydrocarbon receptor (AhR): inactive',\n",
       "  'androgen receptor, full (AR, full): inactive',\n",
       "  'androgen receptor, LBD (AR, LBD): inactive',\n",
       "  'peroxisome proliferator-activated receptor gamma (PPAR-gamma): inactive',\n",
       "  'nuclear factor (erythroid-derived 2)-like 2/antioxidant responsive element (Nrf2/ARE): inactive',\n",
       "  'heat shock factor response element (HSE): inactive',\n",
       "  'ATAD5: inactive',\n",
       "  'mitochondrial membrane potential (MMP): inactive',\n",
       "  'p53: active']]"
      ]
     },
     "execution_count": 15,
     "metadata": {},
     "output_type": "execute_result"
    }
   ],
   "source": [
    "p[:6]"
   ]
  }
 ],
 "metadata": {
  "kernelspec": {
   "display_name": "Python 3",
   "language": "python",
   "name": "python3"
  },
  "language_info": {
   "codemirror_mode": {
    "name": "ipython",
    "version": 3
   },
   "file_extension": ".py",
   "mimetype": "text/x-python",
   "name": "python",
   "nbconvert_exporter": "python",
   "pygments_lexer": "ipython3",
   "version": "3.6.9"
  }
 },
 "nbformat": 4,
 "nbformat_minor": 4
}
